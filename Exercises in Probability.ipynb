{
 "cells": [
  {
   "cell_type": "code",
   "execution_count": 2,
   "metadata": {},
   "outputs": [
    {
     "name": "stdout",
     "output_type": "stream",
     "text": [
      "0.0625\n",
      "0.0625\n",
      "0.0625\n"
     ]
    }
   ],
   "source": [
    "h = (1/2)\n",
    "t = (1/2)\n",
    "\n",
    "print(h*t*t*h)\n",
    "print(h*h*h*h)\n",
    "print(t*t*h*h)"
   ]
  },
  {
   "cell_type": "code",
   "execution_count": 3,
   "metadata": {},
   "outputs": [
    {
     "name": "stdout",
     "output_type": "stream",
     "text": [
      "0.5333333333333333\n"
     ]
    }
   ],
   "source": [
    "m = 21\n",
    "w = 24\n",
    "t = 45\n",
    "\n",
    "print(w/t)"
   ]
  },
  {
   "cell_type": "code",
   "execution_count": 18,
   "metadata": {},
   "outputs": [
    {
     "name": "stdout",
     "output_type": "stream",
     "text": [
      "0.0005%\n"
     ]
    }
   ],
   "source": [
    "pb = .1 * .00005 * 100\n",
    "\n",
    "print(\"{}%\".format(pb))"
   ]
  },
  {
   "cell_type": "code",
   "execution_count": null,
   "metadata": {
    "collapsed": true
   },
   "outputs": [],
   "source": [
    "##The conclusion is based on the idea that the sample is an indicator of the population. The problem is that not \n",
    "##everyone took the survey which would change the amount of time that the average user spends on the website."
   ]
  }
 ],
 "metadata": {
  "kernelspec": {
   "display_name": "Python 3",
   "language": "python",
   "name": "python3"
  },
  "language_info": {
   "codemirror_mode": {
    "name": "ipython",
    "version": 3
   },
   "file_extension": ".py",
   "mimetype": "text/x-python",
   "name": "python",
   "nbconvert_exporter": "python",
   "pygments_lexer": "ipython3",
   "version": "3.6.1"
  }
 },
 "nbformat": 4,
 "nbformat_minor": 2
}
