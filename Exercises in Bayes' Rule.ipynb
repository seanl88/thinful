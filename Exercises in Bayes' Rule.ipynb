{
 "cells": [
  {
   "cell_type": "code",
   "execution_count": null,
   "metadata": {
    "collapsed": true
   },
   "outputs": [],
   "source": [
    "#my answers\n",
    "#1. .49%\n",
    "#2. 88%\n",
    "#3. 88%\n",
    "#4. None\n",
    "\n",
    "\n",
    "#positive = .98*.005 +.1*.955 = .1004\n",
    "#correct diagnoses of a sufferer of Thripshaw's = 98%\n",
    "#correctly identify a non-sufferer = 90%\n",
    "#misclassify = 1-(.98*.005 + .9*.955) = .1356"
   ]
  }
 ],
 "metadata": {
  "kernelspec": {
   "display_name": "Python 3",
   "language": "python",
   "name": "python3"
  },
  "language_info": {
   "codemirror_mode": {
    "name": "ipython",
    "version": 3
   },
   "file_extension": ".py",
   "mimetype": "text/x-python",
   "name": "python",
   "nbconvert_exporter": "python",
   "pygments_lexer": "ipython3",
   "version": "3.6.1"
  }
 },
 "nbformat": 4,
 "nbformat_minor": 2
}
